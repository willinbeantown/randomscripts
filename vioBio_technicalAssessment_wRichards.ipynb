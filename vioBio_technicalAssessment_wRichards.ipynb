{
 "cells": [
  {
   "cell_type": "markdown",
   "metadata": {},
   "source": [
    "# Vor BioPharm Technical Assessment"
   ]
  },
  {
   "cell_type": "markdown",
   "metadata": {},
   "source": [
    "## Will Richards"
   ]
  },
  {
   "cell_type": "markdown",
   "metadata": {},
   "source": [
    "### 1. Data Download from AWS S3"
   ]
  },
  {
   "cell_type": "markdown",
   "metadata": {},
   "source": [
    "First I set up an Anaconda environment to work in using Python 3.7.\n",
    "\n",
    "Then, I downloaded `s3://vor-interview/sampleinfo/datatable.tsv` using the AWS CLI tool after some configuration.\n",
    "\n",
    "Note: The `aws configure list` and file copying can be done in Jupyter by leading with an exclamation, `!`."
   ]
  },
  {
   "cell_type": "code",
   "execution_count": null,
   "metadata": {},
   "outputs": [],
   "source": [
    "from IPython.display import Image\n",
    "Image(filename='Screen Shot 2021-07-13 at 6.13.11 PM.png')"
   ]
  },
  {
   "cell_type": "code",
   "execution_count": null,
   "metadata": {},
   "outputs": [],
   "source": [
    "Image(filename='Screen Shot 2021-07-13 at 8.07.34 PM.png') "
   ]
  },
  {
   "cell_type": "code",
   "execution_count": null,
   "metadata": {},
   "outputs": [],
   "source": [
    "Image(filename='Screen Shot 2021-07-13 at 6.13.54 PM.png')"
   ]
  },
  {
   "cell_type": "code",
   "execution_count": null,
   "metadata": {},
   "outputs": [],
   "source": [
    "# Review contents of file to ensure proper download.\n",
    "import pandas as pd\n",
    "\n",
    "inputfile = \"~/Desktop/vorBioTest/datatable.tsv\"\n",
    "\n",
    "rawDataDF = pd.read_csv(inputfile, delimiter=\"\\t\")\n",
    "print(rawDataDF.head(3))"
   ]
  },
  {
   "cell_type": "code",
   "execution_count": null,
   "metadata": {},
   "outputs": [],
   "source": [
    "print(rawDataDF.tail(3))"
   ]
  },
  {
   "cell_type": "code",
   "execution_count": null,
   "metadata": {},
   "outputs": [],
   "source": [
    "print(rawDataDF.info())"
   ]
  },
  {
   "cell_type": "code",
   "execution_count": null,
   "metadata": {},
   "outputs": [],
   "source": [
    "print(rawDataDF.describe())"
   ]
  },
  {
   "cell_type": "code",
   "execution_count": null,
   "metadata": {},
   "outputs": [],
   "source": [
    "print(rawDataDF.columns)"
   ]
  },
  {
   "cell_type": "markdown",
   "metadata": {},
   "source": [
    "### 2. Import the data table to a portable SQLite database"
   ]
  },
  {
   "cell_type": "code",
   "execution_count": null,
   "metadata": {},
   "outputs": [],
   "source": [
    "import sqlite3\n",
    "\n",
    "dbFile = \"vorBioTest.db\"\n",
    "conn = sqlite3.connect(dbFile)\n",
    "c = conn.cursor()\n",
    "c.execute(\"\"\"CREATE TABLE EXPERIMENTS (SPPTleID text,\n",
    "                                       FilePath text,\n",
    "                                       FileSize number,\n",
    "                                       experiment_name text,\n",
    "                                       experiment_id text,\n",
    "                                       vendor text,\n",
    "                                       target_gene text,\n",
    "                                       owner text,\n",
    "                                       date text,\n",
    "                                       email text)\"\"\")\n",
    "conn.commit()"
   ]
  },
  {
   "cell_type": "code",
   "execution_count": null,
   "metadata": {},
   "outputs": [],
   "source": [
    "rawDataDF.to_sql(\"EXPERIMENTS\",\n",
    "                 conn,\n",
    "                 if_exists=\"replace\",\n",
    "                 index=False)"
   ]
  },
  {
   "cell_type": "code",
   "execution_count": null,
   "metadata": {},
   "outputs": [],
   "source": [
    "# Confirm successful upload to DB\n",
    "c.execute(\"SELECT * FROM EXPERIMENTS LIMIT 10\")\n",
    "\n",
    "for row in c.fetchall():\n",
    "    print(row)"
   ]
  },
  {
   "cell_type": "markdown",
   "metadata": {},
   "source": [
    "### 3.  Use your R or Python for data analysis and visualization"
   ]
  },
  {
   "cell_type": "markdown",
   "metadata": {},
   "source": [
    "I chose to work in a Jupyter Notebook as much as possible. Use 'Run All Cells' to use the connector from above."
   ]
  },
  {
   "cell_type": "code",
   "execution_count": null,
   "metadata": {},
   "outputs": [],
   "source": [
    "# Using the established connection from above.\n",
    "c.execute(\"SELECT vendor, FileSize FROM EXPERIMENTS\")\n",
    "df = pd.DataFrame(c.fetchall(), columns=[\"vendor\", \"fileSize\"])"
   ]
  },
  {
   "cell_type": "markdown",
   "metadata": {},
   "source": [
    "Using the Pandas `describe` tool and `groupyby` `median()` function to retrieve summary statistics by vendor."
   ]
  },
  {
   "cell_type": "code",
   "execution_count": null,
   "metadata": {},
   "outputs": [],
   "source": [
    "stats_by_vendor = {}\n",
    "for v in df.groupby(\"vendor\"):\n",
    "    print(v[0])\n",
    "    print(v[1].describe())\n",
    "    print(v[1].median()[0])"
   ]
  },
  {
   "cell_type": "markdown",
   "metadata": {},
   "source": [
    "Using the same connection and `plotly` I created `bar` chats by vendors for montly data file size."
   ]
  },
  {
   "cell_type": "code",
   "execution_count": null,
   "metadata": {},
   "outputs": [],
   "source": [
    "c.execute(\"SELECT vendor, date, FileSize FROM EXPERIMENTS\")\n",
    "plotting_df = pd.DataFrame(c.fetchall(), columns=[\"vendor\", \"date\", \"fileSize\"])\n",
    "\n",
    "mos = []\n",
    "dys = []\n",
    "yrs = []\n",
    "for d in plotting_df.date.tolist():\n",
    "    mm, dd, yr = d.split(\"/\")\n",
    "    mos.append(mm)\n",
    "    yrs.append(yr)\n",
    "    \n",
    "plotting_df[\"months\"] = mos\n",
    "plotting_df[\"years\"] = yrs\n",
    "plotting_df[\"moYrs\"] = plotting_df[\"months\"] + \"/\" + plotting_df[\"years\"]\n",
    "\n",
    "vendor_month_sum = []\n",
    "for v in plotting_df.groupby([\"vendor\", \"moYrs\"]):\n",
    "    vendor_month_sum.append([v[0][0], v[0][1], sum(v[1][\"fileSize\"])])\n",
    "\n",
    "df_to_plot = pd.DataFrame(vendor_month_sum, columns = ['vendor', 'monthYear', 'totalFileSize'])\n",
    "df_to_plot[\"monthYear\"] =  pd.to_datetime(df_to_plot[\"monthYear\"], format=\"%m/%y\")\n",
    "df_to_plot = df_to_plot.sort_values([\"monthYear\"]).copy()"
   ]
  },
  {
   "cell_type": "code",
   "execution_count": null,
   "metadata": {
    "scrolled": false
   },
   "outputs": [],
   "source": [
    "import plotly.express as px\n",
    "\n",
    "fig = px.bar(df_to_plot, x=\"monthYear\", y=\"totalFileSize\", color=\"vendor\", text=\"totalFileSize\")\n",
    "fig.update_layout(title_text=\"Monthly Data File Size by Vendor\")\n",
    "fig.update_xaxes(title=\"Month - Year\")\n",
    "fig.update_yaxes(title=\"Total File Size\")\n",
    "fig.update_traces(texttemplate='%{text}', textposition='outside')\n",
    "fig.show()\n"
   ]
  },
  {
   "cell_type": "markdown",
   "metadata": {},
   "source": [
    "### 4. Deploy a web server for the SQLite database query using docker container 'coleifer/sqlite-web:latest'\n",
    "\n",
    "A. Access docker image: https://github.com/coleifer/sqlite-web\n",
    "\n",
    "B. Save the deploy steps as a markdown documentation with a few screenshots."
   ]
  },
  {
   "cell_type": "code",
   "execution_count": null,
   "metadata": {},
   "outputs": [],
   "source": [
    "# While I was able to access the GitHub repository, I do not have a Docker account and\n",
    "# experienced what may be a bug due to this.\n",
    "Image(filename=\"Screen Shot 2021-07-14 at 8.09.07 AM.png\")"
   ]
  },
  {
   "cell_type": "markdown",
   "metadata": {},
   "source": [
    "However, entering the command to launch to database's graphical user interface (\"GUI\") worked.\n",
    "> sqlite_web vorBioTest.db"
   ]
  },
  {
   "cell_type": "code",
   "execution_count": null,
   "metadata": {},
   "outputs": [],
   "source": [
    "Image(filename=\"Screen Shot 2021-07-14 at 8.08.45 AM.png\")"
   ]
  },
  {
   "cell_type": "code",
   "execution_count": null,
   "metadata": {},
   "outputs": [],
   "source": []
  }
 ],
 "metadata": {
  "kernelspec": {
   "display_name": "Python 3",
   "language": "python",
   "name": "python3"
  },
  "language_info": {
   "codemirror_mode": {
    "name": "ipython",
    "version": 3
   },
   "file_extension": ".py",
   "mimetype": "text/x-python",
   "name": "python",
   "nbconvert_exporter": "python",
   "pygments_lexer": "ipython3",
   "version": "3.7.3"
  }
 },
 "nbformat": 4,
 "nbformat_minor": 2
}
